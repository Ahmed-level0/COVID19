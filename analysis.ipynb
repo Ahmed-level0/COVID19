{
 "cells": [
  {
   "cell_type": "code",
   "execution_count": 146,
   "id": "fb2ddc48",
   "metadata": {},
   "outputs": [],
   "source": [
    "import pandas as pd\n",
    "import matplotlib.pyplot as plt\n",
    "import seaborn as sns\n",
    "import numpy as np\n",
    "import warnings \n",
    "warnings.filterwarnings('ignore')"
   ]
  },
  {
   "cell_type": "code",
   "execution_count": 147,
   "id": "be223c78",
   "metadata": {},
   "outputs": [],
   "source": [
    "covid = pd.read_csv('Covid19.csv', parse_dates= ['Date_reported'])"
   ]
  },
  {
   "cell_type": "code",
   "execution_count": 148,
   "id": "3d5443fd",
   "metadata": {},
   "outputs": [
    {
     "data": {
      "text/html": [
       "<div>\n",
       "<style scoped>\n",
       "    .dataframe tbody tr th:only-of-type {\n",
       "        vertical-align: middle;\n",
       "    }\n",
       "\n",
       "    .dataframe tbody tr th {\n",
       "        vertical-align: top;\n",
       "    }\n",
       "\n",
       "    .dataframe thead th {\n",
       "        text-align: right;\n",
       "    }\n",
       "</style>\n",
       "<table border=\"1\" class=\"dataframe\">\n",
       "  <thead>\n",
       "    <tr style=\"text-align: right;\">\n",
       "      <th></th>\n",
       "      <th>Date_reported</th>\n",
       "      <th>Country_code</th>\n",
       "      <th>Country</th>\n",
       "      <th>WHO_region</th>\n",
       "      <th>New_cases</th>\n",
       "      <th>Cumulative_cases</th>\n",
       "      <th>New_deaths</th>\n",
       "      <th>Cumulative_deaths</th>\n",
       "    </tr>\n",
       "  </thead>\n",
       "  <tbody>\n",
       "    <tr>\n",
       "      <th>0</th>\n",
       "      <td>2020-01-04</td>\n",
       "      <td>NE</td>\n",
       "      <td>Niger</td>\n",
       "      <td>AFR</td>\n",
       "      <td>NaN</td>\n",
       "      <td>0</td>\n",
       "      <td>NaN</td>\n",
       "      <td>0</td>\n",
       "    </tr>\n",
       "    <tr>\n",
       "      <th>1</th>\n",
       "      <td>2020-01-04</td>\n",
       "      <td>NO</td>\n",
       "      <td>Norway</td>\n",
       "      <td>EUR</td>\n",
       "      <td>NaN</td>\n",
       "      <td>0</td>\n",
       "      <td>NaN</td>\n",
       "      <td>0</td>\n",
       "    </tr>\n",
       "    <tr>\n",
       "      <th>2</th>\n",
       "      <td>2020-01-04</td>\n",
       "      <td>PW</td>\n",
       "      <td>Palau</td>\n",
       "      <td>WPR</td>\n",
       "      <td>0.0</td>\n",
       "      <td>0</td>\n",
       "      <td>0.0</td>\n",
       "      <td>0</td>\n",
       "    </tr>\n",
       "    <tr>\n",
       "      <th>3</th>\n",
       "      <td>2020-01-04</td>\n",
       "      <td>PY</td>\n",
       "      <td>Paraguay</td>\n",
       "      <td>AMR</td>\n",
       "      <td>NaN</td>\n",
       "      <td>0</td>\n",
       "      <td>NaN</td>\n",
       "      <td>0</td>\n",
       "    </tr>\n",
       "    <tr>\n",
       "      <th>4</th>\n",
       "      <td>2020-01-04</td>\n",
       "      <td>PN</td>\n",
       "      <td>Pitcairn</td>\n",
       "      <td>WPR</td>\n",
       "      <td>0.0</td>\n",
       "      <td>0</td>\n",
       "      <td>0.0</td>\n",
       "      <td>0</td>\n",
       "    </tr>\n",
       "  </tbody>\n",
       "</table>\n",
       "</div>"
      ],
      "text/plain": [
       "  Date_reported Country_code   Country WHO_region  New_cases  \\\n",
       "0    2020-01-04           NE     Niger        AFR        NaN   \n",
       "1    2020-01-04           NO    Norway        EUR        NaN   \n",
       "2    2020-01-04           PW     Palau        WPR        0.0   \n",
       "3    2020-01-04           PY  Paraguay        AMR        NaN   \n",
       "4    2020-01-04           PN  Pitcairn        WPR        0.0   \n",
       "\n",
       "   Cumulative_cases  New_deaths  Cumulative_deaths  \n",
       "0                 0         NaN                  0  \n",
       "1                 0         NaN                  0  \n",
       "2                 0         0.0                  0  \n",
       "3                 0         NaN                  0  \n",
       "4                 0         0.0                  0  "
      ]
     },
     "execution_count": 148,
     "metadata": {},
     "output_type": "execute_result"
    }
   ],
   "source": [
    "covid.head()"
   ]
  },
  {
   "cell_type": "code",
   "execution_count": 149,
   "id": "418ee966",
   "metadata": {},
   "outputs": [
    {
     "name": "stdout",
     "output_type": "stream",
     "text": [
      "<class 'pandas.core.frame.DataFrame'>\n",
      "RangeIndex: 487680 entries, 0 to 487679\n",
      "Data columns (total 8 columns):\n",
      " #   Column             Non-Null Count   Dtype         \n",
      "---  ------             --------------   -----         \n",
      " 0   Date_reported      487680 non-null  datetime64[ns]\n",
      " 1   Country_code       485648 non-null  object        \n",
      " 2   Country            487680 non-null  object        \n",
      " 3   WHO_region         487680 non-null  object        \n",
      " 4   New_cases          210274 non-null  float64       \n",
      " 5   Cumulative_cases   487680 non-null  int64         \n",
      " 6   New_deaths         153909 non-null  float64       \n",
      " 7   Cumulative_deaths  487680 non-null  int64         \n",
      "dtypes: datetime64[ns](1), float64(2), int64(2), object(3)\n",
      "memory usage: 29.8+ MB\n"
     ]
    }
   ],
   "source": [
    "covid.info()"
   ]
  },
  {
   "cell_type": "code",
   "execution_count": 150,
   "id": "2adcf806",
   "metadata": {},
   "outputs": [
    {
     "data": {
      "text/plain": [
       "277406"
      ]
     },
     "execution_count": 150,
     "metadata": {},
     "output_type": "execute_result"
    }
   ],
   "source": [
    "covid['New_cases'].isna().sum()"
   ]
  },
  {
   "cell_type": "markdown",
   "id": "7668c877",
   "metadata": {},
   "source": [
    "<h3>56% Of data is missing</h3>"
   ]
  },
  {
   "cell_type": "code",
   "execution_count": 151,
   "id": "f18e0976",
   "metadata": {},
   "outputs": [],
   "source": [
    "covid = covid.sort_values([\"Country\", \"WHO_region\", \"Date_reported\"]).reset_index(drop = True)"
   ]
  },
  {
   "cell_type": "code",
   "execution_count": 152,
   "id": "6022a319",
   "metadata": {},
   "outputs": [],
   "source": [
    "grouped_data = covid.groupby(['Country'\t,'WHO_region'])"
   ]
  },
  {
   "cell_type": "markdown",
   "id": "57b0a3fd",
   "metadata": {},
   "source": [
    "<h3>Sorting and grouping data for preparing for shifting operations</h3>"
   ]
  },
  {
   "cell_type": "code",
   "execution_count": 153,
   "id": "4395217e",
   "metadata": {},
   "outputs": [],
   "source": [
    "covid[\"Cumulative_cases_prev\"] = grouped_data[\"Cumulative_cases\"].shift(1, fill_value= 0)\n",
    "covid[\"Cumulative_deaths_prev\"] = grouped_data[\"Cumulative_deaths\"].shift(1, fill_value= 0)"
   ]
  },
  {
   "cell_type": "markdown",
   "id": "bf5da077",
   "metadata": {},
   "source": [
    "<h3>Shifting the data of the cumulative columns  to create a new column indicating the previous cumulative data</h3>"
   ]
  },
  {
   "cell_type": "code",
   "execution_count": 154,
   "id": "8f3a699c",
   "metadata": {},
   "outputs": [
    {
     "data": {
      "text/plain": [
       "Date_reported                  0\n",
       "Country_code                2032\n",
       "Country                        0\n",
       "WHO_region                     0\n",
       "New_cases                 277406\n",
       "Cumulative_cases               0\n",
       "New_deaths                333771\n",
       "Cumulative_deaths              0\n",
       "Cumulative_cases_prev          0\n",
       "Cumulative_deaths_prev         0\n",
       "dtype: int64"
      ]
     },
     "execution_count": 154,
     "metadata": {},
     "output_type": "execute_result"
    }
   ],
   "source": [
    "covid.isna().sum()"
   ]
  },
  {
   "cell_type": "code",
   "execution_count": 155,
   "id": "5fc7bdfa",
   "metadata": {},
   "outputs": [],
   "source": [
    "covid['New_cases'] = covid.apply(\n",
    "    lambda row: (row['Cumulative_cases'] - row['Cumulative_cases_prev']) if pd.isna(row['New_cases']) else row['New_cases'], axis= 1\n",
    ")"
   ]
  },
  {
   "cell_type": "markdown",
   "id": "a96d386a",
   "metadata": {},
   "source": [
    "<h3>Subtracting the previous cumulative cases to the current cumulative cases to fill the missing new cases values</h3>"
   ]
  },
  {
   "cell_type": "code",
   "execution_count": 156,
   "id": "dc5cdeec",
   "metadata": {},
   "outputs": [],
   "source": [
    "covid['New_deaths'] = covid.apply(\n",
    "    lambda row: (row['Cumulative_deaths'] - row['Cumulative_deaths_prev']) if pd.isna(row['New_deaths']) else row['New_deaths'], axis= 1\n",
    ")"
   ]
  },
  {
   "cell_type": "markdown",
   "id": "8bcc43a2",
   "metadata": {},
   "source": [
    "<h3>Subtracting the previous cumulative cases to the current cumulative cases to fill the missing new cases values</h3>"
   ]
  },
  {
   "cell_type": "code",
   "execution_count": 157,
   "id": "a2ead78f",
   "metadata": {},
   "outputs": [],
   "source": [
    "covid.dropna(inplace= True)"
   ]
  },
  {
   "cell_type": "markdown",
   "id": "ebb4699a",
   "metadata": {},
   "source": [
    "<h3>Dropping the missing Columns from country code columns since it's less than 5% o the data</h3>"
   ]
  },
  {
   "cell_type": "code",
   "execution_count": 158,
   "id": "e1966033",
   "metadata": {},
   "outputs": [
    {
     "data": {
      "text/plain": [
       "Date_reported             0\n",
       "Country_code              0\n",
       "Country                   0\n",
       "WHO_region                0\n",
       "New_cases                 0\n",
       "Cumulative_cases          0\n",
       "New_deaths                0\n",
       "Cumulative_deaths         0\n",
       "Cumulative_cases_prev     0\n",
       "Cumulative_deaths_prev    0\n",
       "dtype: int64"
      ]
     },
     "execution_count": 158,
     "metadata": {},
     "output_type": "execute_result"
    }
   ],
   "source": [
    "covid.isna().sum()"
   ]
  },
  {
   "cell_type": "code",
   "execution_count": null,
   "id": "8c23c663",
   "metadata": {},
   "outputs": [],
   "source": []
  }
 ],
 "metadata": {
  "kernelspec": {
   "display_name": "base",
   "language": "python",
   "name": "python3"
  },
  "language_info": {
   "codemirror_mode": {
    "name": "ipython",
    "version": 3
   },
   "file_extension": ".py",
   "mimetype": "text/x-python",
   "name": "python",
   "nbconvert_exporter": "python",
   "pygments_lexer": "ipython3",
   "version": "3.12.4"
  }
 },
 "nbformat": 4,
 "nbformat_minor": 5
}
